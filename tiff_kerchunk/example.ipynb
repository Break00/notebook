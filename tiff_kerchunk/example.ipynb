{
 "cells": [
  {
   "cell_type": "code",
   "execution_count": 13,
   "id": "c640fbc3-9d3b-4337-8d6b-0d13c5dbe6bc",
   "metadata": {},
   "outputs": [
    {
     "ename": "IndexError",
     "evalue": "index 1 out of range(1)",
     "output_type": "error",
     "traceback": [
      "\u001b[0;31m---------------------------------------------------------------------------\u001b[0m",
      "\u001b[0;31mIndexError\u001b[0m                                Traceback (most recent call last)",
      "Cell \u001b[0;32mIn [13], line 5\u001b[0m\n\u001b[1;32m      2\u001b[0m \u001b[38;5;28;01mimport\u001b[39;00m \u001b[38;5;21;01mzarr\u001b[39;00m\n\u001b[1;32m      3\u001b[0m \u001b[38;5;28;01mimport\u001b[39;00m \u001b[38;5;21;01mkerchunk\u001b[39;00m\u001b[38;5;21;01m.\u001b[39;00m\u001b[38;5;21;01mtiff\u001b[39;00m\n\u001b[0;32m----> 5\u001b[0m out \u001b[38;5;241m=\u001b[39m \u001b[43mkerchunk\u001b[49m\u001b[38;5;241;43m.\u001b[39;49m\u001b[43mtiff\u001b[49m\u001b[38;5;241;43m.\u001b[39;49m\u001b[43mtiff_to_zarr\u001b[49m\u001b[43m(\u001b[49m\u001b[38;5;124;43mr\u001b[39;49m\u001b[38;5;124;43m'\u001b[39;49m\u001b[38;5;124;43m./example.tif\u001b[39;49m\u001b[38;5;124;43m'\u001b[39;49m\u001b[43m)\u001b[49m\n\u001b[1;32m      7\u001b[0m \u001b[38;5;28;01mwith\u001b[39;00m \u001b[38;5;28mopen\u001b[39m(\u001b[38;5;124mr\u001b[39m\u001b[38;5;124m'\u001b[39m\u001b[38;5;124m./example.json\u001b[39m\u001b[38;5;124m'\u001b[39m,\u001b[38;5;124m\"\u001b[39m\u001b[38;5;124mw\u001b[39m\u001b[38;5;124m\"\u001b[39m) \u001b[38;5;28;01mas\u001b[39;00m of:\n\u001b[1;32m      8\u001b[0m     ujson\u001b[38;5;241m.\u001b[39mdump(out, of)\n",
      "File \u001b[0;32m~/.local/lib/python3.9/site-packages/kerchunk/tiff.py:41\u001b[0m, in \u001b[0;36mtiff_to_zarr\u001b[0;34m(urlpath, remote_options, target, target_options)\u001b[0m\n\u001b[1;32m     39\u001b[0m \u001b[38;5;28;01mif\u001b[39;00m \u001b[38;5;129;01mnot\u001b[39;00m k\u001b[38;5;241m.\u001b[39mendswith(\u001b[38;5;124m\"\u001b[39m\u001b[38;5;124mmetadata\u001b[39m\u001b[38;5;124m\"\u001b[39m):\n\u001b[1;32m     40\u001b[0m     \u001b[38;5;28;01mcontinue\u001b[39;00m\n\u001b[0;32m---> 41\u001b[0m met \u001b[38;5;241m=\u001b[39m \u001b[38;5;28;43mgetattr\u001b[39;49m\u001b[43m(\u001b[49m\u001b[43mtif\u001b[49m\u001b[43m,\u001b[49m\u001b[43m \u001b[49m\u001b[43mk\u001b[49m\u001b[43m,\u001b[49m\u001b[43m \u001b[49m\u001b[38;5;28;43;01mNone\u001b[39;49;00m\u001b[43m)\u001b[49m\n\u001b[1;32m     42\u001b[0m \u001b[38;5;28;01mtry\u001b[39;00m:\n\u001b[1;32m     43\u001b[0m     d \u001b[38;5;241m=\u001b[39m \u001b[38;5;28mdict\u001b[39m(met \u001b[38;5;129;01mor\u001b[39;00m {})\n",
      "File \u001b[0;32m/opt/tljh/user/lib/python3.9/functools.py:993\u001b[0m, in \u001b[0;36mcached_property.__get__\u001b[0;34m(self, instance, owner)\u001b[0m\n\u001b[1;32m    991\u001b[0m val \u001b[38;5;241m=\u001b[39m cache\u001b[38;5;241m.\u001b[39mget(\u001b[38;5;28mself\u001b[39m\u001b[38;5;241m.\u001b[39mattrname, _NOT_FOUND)\n\u001b[1;32m    992\u001b[0m \u001b[38;5;28;01mif\u001b[39;00m val \u001b[38;5;129;01mis\u001b[39;00m _NOT_FOUND:\n\u001b[0;32m--> 993\u001b[0m     val \u001b[38;5;241m=\u001b[39m \u001b[38;5;28;43mself\u001b[39;49m\u001b[38;5;241;43m.\u001b[39;49m\u001b[43mfunc\u001b[49m\u001b[43m(\u001b[49m\u001b[43minstance\u001b[49m\u001b[43m)\u001b[49m\n\u001b[1;32m    994\u001b[0m     \u001b[38;5;28;01mtry\u001b[39;00m:\n\u001b[1;32m    995\u001b[0m         cache[\u001b[38;5;28mself\u001b[39m\u001b[38;5;241m.\u001b[39mattrname] \u001b[38;5;241m=\u001b[39m val\n",
      "File \u001b[0;32m/opt/tljh/user/lib/python3.9/site-packages/tifffile/tifffile.py:6178\u001b[0m, in \u001b[0;36mTiffFile.mdgel_metadata\u001b[0;34m(self)\u001b[0m\n\u001b[1;32m   6176\u001b[0m     tags \u001b[38;5;241m=\u001b[39m \u001b[38;5;28mself\u001b[39m\u001b[38;5;241m.\u001b[39mpages\u001b[38;5;241m.\u001b[39mfirst\u001b[38;5;241m.\u001b[39mtags\n\u001b[1;32m   6177\u001b[0m \u001b[38;5;28;01melse\u001b[39;00m:\n\u001b[0;32m-> 6178\u001b[0m     page \u001b[38;5;241m=\u001b[39m cast(TiffPage, \u001b[38;5;28;43mself\u001b[39;49m\u001b[38;5;241;43m.\u001b[39;49m\u001b[43mpages\u001b[49m\u001b[43m[\u001b[49m\u001b[38;5;241;43m1\u001b[39;49m\u001b[43m]\u001b[49m)\n\u001b[1;32m   6179\u001b[0m     \u001b[38;5;28;01mif\u001b[39;00m \u001b[38;5;241m33445\u001b[39m \u001b[38;5;129;01min\u001b[39;00m page\u001b[38;5;241m.\u001b[39mtags:\n\u001b[1;32m   6180\u001b[0m         tags \u001b[38;5;241m=\u001b[39m page\u001b[38;5;241m.\u001b[39mtags\n",
      "File \u001b[0;32m/opt/tljh/user/lib/python3.9/site-packages/tifffile/tifffile.py:6919\u001b[0m, in \u001b[0;36mTiffPages.__getitem__\u001b[0;34m(self, key)\u001b[0m\n\u001b[1;32m   6917\u001b[0m     \u001b[38;5;28;01mif\u001b[39;00m key \u001b[38;5;241m==\u001b[39m \u001b[38;5;241m0\u001b[39m:\n\u001b[1;32m   6918\u001b[0m         \u001b[38;5;28;01mreturn\u001b[39;00m cast(TiffPage, pages[key])\n\u001b[0;32m-> 6919\u001b[0m     \u001b[38;5;28;01mreturn\u001b[39;00m \u001b[43mgetitem\u001b[49m\u001b[43m(\u001b[49m\u001b[43mkey\u001b[49m\u001b[43m)\u001b[49m\n\u001b[1;32m   6921\u001b[0m \u001b[38;5;28;01mif\u001b[39;00m \u001b[38;5;28misinstance\u001b[39m(key, \u001b[38;5;28mslice\u001b[39m):\n\u001b[1;32m   6922\u001b[0m     start, stop, _ \u001b[38;5;241m=\u001b[39m key\u001b[38;5;241m.\u001b[39mindices(\u001b[38;5;241m2\u001b[39m\u001b[38;5;241m*\u001b[39m\u001b[38;5;241m*\u001b[39m\u001b[38;5;241m31\u001b[39m \u001b[38;5;241m-\u001b[39m \u001b[38;5;241m1\u001b[39m)\n",
      "File \u001b[0;32m/opt/tljh/user/lib/python3.9/site-packages/tifffile/tifffile.py:6870\u001b[0m, in \u001b[0;36mTiffPages._getitem\u001b[0;34m(self, key, validate, cache, aspage)\u001b[0m\n\u001b[1;32m   6868\u001b[0m     key \u001b[38;5;241m%\u001b[39m\u001b[38;5;241m=\u001b[39m \u001b[38;5;28mlen\u001b[39m(\u001b[38;5;28mself\u001b[39m)\n\u001b[1;32m   6869\u001b[0m \u001b[38;5;28;01melif\u001b[39;00m \u001b[38;5;28mself\u001b[39m\u001b[38;5;241m.\u001b[39m_indexed \u001b[38;5;129;01mand\u001b[39;00m key \u001b[38;5;241m>\u001b[39m\u001b[38;5;241m=\u001b[39m \u001b[38;5;28mlen\u001b[39m(pages):\n\u001b[0;32m-> 6870\u001b[0m     \u001b[38;5;28;01mraise\u001b[39;00m \u001b[38;5;167;01mIndexError\u001b[39;00m(\u001b[38;5;124mf\u001b[39m\u001b[38;5;124m'\u001b[39m\u001b[38;5;124mindex \u001b[39m\u001b[38;5;132;01m{\u001b[39;00mkey\u001b[38;5;132;01m}\u001b[39;00m\u001b[38;5;124m out of range(\u001b[39m\u001b[38;5;132;01m{\u001b[39;00m\u001b[38;5;28mlen\u001b[39m(pages)\u001b[38;5;132;01m}\u001b[39;00m\u001b[38;5;124m)\u001b[39m\u001b[38;5;124m'\u001b[39m)\n\u001b[1;32m   6872\u001b[0m tiffpage \u001b[38;5;241m=\u001b[39m TiffPage \u001b[38;5;28;01mif\u001b[39;00m aspage \u001b[38;5;28;01melse\u001b[39;00m \u001b[38;5;28mself\u001b[39m\u001b[38;5;241m.\u001b[39m_tiffpage\n\u001b[1;32m   6874\u001b[0m \u001b[38;5;28;01mif\u001b[39;00m key \u001b[38;5;241m<\u001b[39m \u001b[38;5;28mlen\u001b[39m(pages):\n",
      "\u001b[0;31mIndexError\u001b[0m: index 1 out of range(1)"
     ]
    }
   ],
   "source": [
    "import ujson\n",
    "import zarr\n",
    "import kerchunk.tiff\n",
    "\n",
    "out = kerchunk.tiff.tiff_to_zarr(r'./example.tif')\n",
    "\n",
    "with open(r'./example.json',\"w\") as of:\n",
    "    ujson.dump(out, of)"
   ]
  },
  {
   "cell_type": "code",
   "execution_count": null,
   "id": "85130081-500e-4947-b2ac-82b1a092f53e",
   "metadata": {},
   "outputs": [],
   "source": []
  }
 ],
 "metadata": {
  "kernelspec": {
   "display_name": "Python 3 (ipykernel)",
   "language": "python",
   "name": "python3"
  },
  "language_info": {
   "codemirror_mode": {
    "name": "ipython",
    "version": 3
   },
   "file_extension": ".py",
   "mimetype": "text/x-python",
   "name": "python",
   "nbconvert_exporter": "python",
   "pygments_lexer": "ipython3",
   "version": "3.9.13"
  }
 },
 "nbformat": 4,
 "nbformat_minor": 5
}
